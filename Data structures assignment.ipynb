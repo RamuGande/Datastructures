{
 "cells": [
  {
   "cell_type": "raw",
   "id": "9a5fe658",
   "metadata": {},
   "source": [
    " 1.Write a code to reverse ' string"
   ]
  },
  {
   "cell_type": "code",
   "execution_count": 1,
   "id": "f45f0142",
   "metadata": {},
   "outputs": [
    {
     "name": "stdout",
     "output_type": "stream",
     "text": [
      "ajetivaR\n"
     ]
    }
   ],
   "source": [
    "str = \"Raviteja\"\n",
    "k = str[::-1]\n",
    "print(k)"
   ]
  },
  {
   "cell_type": "raw",
   "id": "2d1f721b",
   "metadata": {},
   "source": [
    "2. Write a code to count the number of vowel in ' string"
   ]
  },
  {
   "cell_type": "code",
   "execution_count": 2,
   "id": "cae32d99",
   "metadata": {},
   "outputs": [
    {
     "name": "stdout",
     "output_type": "stream",
     "text": [
      "4\n"
     ]
    }
   ],
   "source": [
    "str = \"Raviteja\"\n",
    "count = 0\n",
    "for i in str:\n",
    "    if i.lower() in ['a','e','i','o','u']:\n",
    "        count = count + 1\n",
    "print(count)"
   ]
  },
  {
   "cell_type": "code",
   "execution_count": 3,
   "id": "9ad6e674",
   "metadata": {},
   "outputs": [
    {
     "name": "stdout",
     "output_type": "stream",
     "text": [
      "4\n"
     ]
    }
   ],
   "source": [
    "#methid 2:\n",
    "str = \"Raviteja\"\n",
    "count = sum(1 for char in str.lower() if char in 'aeiou')\n",
    "print(count)"
   ]
  },
  {
   "cell_type": "raw",
   "id": "3de21598",
   "metadata": {},
   "source": [
    "3. Write code to check if ' given string is palindrome or not."
   ]
  },
  {
   "cell_type": "code",
   "execution_count": 4,
   "id": "4244d5b1",
   "metadata": {},
   "outputs": [
    {
     "name": "stdout",
     "output_type": "stream",
     "text": [
      "palindrome\n"
     ]
    }
   ],
   "source": [
    "str = \"madam\"\n",
    "k = str[::-1]\n",
    "if k == str:\n",
    "    print(\"palindrome\")\n",
    "else:\n",
    "    print(\"not a palindrome\")"
   ]
  },
  {
   "cell_type": "raw",
   "id": "b54a27c4",
   "metadata": {},
   "source": [
    "4.write a code to check if given two strings are anagrams of each other."
   ]
  },
  {
   "cell_type": "code",
   "execution_count": 5,
   "id": "12bfe39d",
   "metadata": {},
   "outputs": [
    {
     "name": "stdout",
     "output_type": "stream",
     "text": [
      "are anagrams\n"
     ]
    }
   ],
   "source": [
    "str1 = 'ACts'\n",
    "str2 = 'CATS '\n",
    "str1 = str1.replace(\" \",\"\").lower()\n",
    "str2 = str2.replace(\" \",\"\").lower()\n",
    "if sorted(str1) == sorted(str2):\n",
    "    print(\"are anagrams\")\n",
    "else:\n",
    "    print(\"are not anagrams\")"
   ]
  },
  {
   "cell_type": "raw",
   "id": "071bab6b",
   "metadata": {},
   "source": [
    "5.Write a code to find all occurences of given sub string within another string."
   ]
  },
  {
   "cell_type": "code",
   "execution_count": 6,
   "id": "c97d7762",
   "metadata": {},
   "outputs": [
    {
     "name": "stdout",
     "output_type": "stream",
     "text": [
      "[0, 13, 26]\n"
     ]
    }
   ],
   "source": [
    "main_str = \"good morning,good evening,good night\"\n",
    "str = \"good\"\n",
    "occurrences = []\n",
    "k = 0\n",
    "main_str.find(str,k)\n",
    "while k < len(main_str):\n",
    "    pos = main_str.find(str,k)\n",
    "    if pos != -1:\n",
    "        occurrences.append(pos)\n",
    "        k = pos + 1\n",
    "    else:\n",
    "        break\n",
    "\n",
    "print(occurrences)\n"
   ]
  },
  {
   "cell_type": "raw",
   "id": "dbadb9f6",
   "metadata": {},
   "source": [
    "6.Write a code to perform basic string compression using the count of repeated characters."
   ]
  },
  {
   "cell_type": "code",
   "execution_count": 7,
   "id": "76b8a884",
   "metadata": {},
   "outputs": [
    {
     "ename": "TypeError",
     "evalue": "'str' object is not callable",
     "output_type": "error",
     "traceback": [
      "\u001b[1;31m---------------------------------------------------------------------------\u001b[0m",
      "\u001b[1;31mTypeError\u001b[0m                                 Traceback (most recent call last)",
      "Cell \u001b[1;32mIn[7], line 17\u001b[0m\n\u001b[0;32m     14\u001b[0m     \u001b[38;5;28;01mreturn\u001b[39;00m compressed\n\u001b[0;32m     16\u001b[0m input_string \u001b[38;5;241m=\u001b[39m \u001b[38;5;124m\"\u001b[39m\u001b[38;5;124maabbbcc\u001b[39m\u001b[38;5;124m\"\u001b[39m\n\u001b[1;32m---> 17\u001b[0m \u001b[38;5;28mprint\u001b[39m(compress_string(input_string))\n",
      "Cell \u001b[1;32mIn[7], line 11\u001b[0m, in \u001b[0;36mcompress_string\u001b[1;34m(input_string)\u001b[0m\n\u001b[0;32m      9\u001b[0m         count \u001b[38;5;241m+\u001b[39m\u001b[38;5;241m=\u001b[39m \u001b[38;5;241m1\u001b[39m\n\u001b[0;32m     10\u001b[0m     \u001b[38;5;28;01melse\u001b[39;00m:\n\u001b[1;32m---> 11\u001b[0m         compressed \u001b[38;5;241m+\u001b[39m\u001b[38;5;241m=\u001b[39m input_string[i \u001b[38;5;241m-\u001b[39m \u001b[38;5;241m1\u001b[39m] \u001b[38;5;241m+\u001b[39m \u001b[38;5;28mstr\u001b[39m(count)\n\u001b[0;32m     12\u001b[0m         count \u001b[38;5;241m=\u001b[39m \u001b[38;5;241m1\u001b[39m\n\u001b[0;32m     13\u001b[0m compressed \u001b[38;5;241m+\u001b[39m\u001b[38;5;241m=\u001b[39m input_string[\u001b[38;5;241m-\u001b[39m\u001b[38;5;241m1\u001b[39m] \u001b[38;5;241m+\u001b[39m \u001b[38;5;28mstr\u001b[39m(count)\n",
      "\u001b[1;31mTypeError\u001b[0m: 'str' object is not callable"
     ]
    }
   ],
   "source": [
    "def compress_string(input_string):\n",
    "    if not input_string:\n",
    "        return \"\"\n",
    "\n",
    "    compressed = \"\"\n",
    "    count = 1\n",
    "    for i in range(1, len(input_string)):\n",
    "        if input_string[i] == input_string[i - 1]:\n",
    "            count += 1\n",
    "        else:\n",
    "            compressed += input_string[i - 1] + str(count)\n",
    "            count = 1\n",
    "    compressed += input_string[-1] + str(count)\n",
    "    return compressed\n",
    "\n",
    "input_string = \"aabbbcc\"\n",
    "print(compress_string(input_string)) "
   ]
  },
  {
   "cell_type": "raw",
   "id": "649a2800",
   "metadata": {},
   "source": [
    " 7.Write code to determine if string has all unique characters."
   ]
  },
  {
   "cell_type": "code",
   "execution_count": null,
   "id": "9e4d6630",
   "metadata": {},
   "outputs": [],
   "source": [
    "\n",
    "str = \"Ramu\"\n",
    "if len(str)==len(set(str)):\n",
    "    print(\"it has unique characters.\")\n",
    "else :\n",
    "    print(\"it doesnt have unique characters\")"
   ]
  },
  {
   "cell_type": "raw",
   "id": "6f8a091e",
   "metadata": {},
   "source": [
    "8.Write a code to convert given string to upper or lower"
   ]
  },
  {
   "cell_type": "code",
   "execution_count": null,
   "id": "f06f80a3",
   "metadata": {},
   "outputs": [],
   "source": [
    "def Upper(string):\n",
    "    return string.upper()\n",
    "\n",
    "\n",
    "def Lower(string):\n",
    "    return string.lower()\n",
    "\n",
    "\n",
    "string1 = input(\"Enter string here for uppercase\\n\")\n",
    "print(Upper(string1))\n",
    "string2 = input(\"Enter string for lowercase\\n\")\n",
    "print(Lower(string2))"
   ]
  },
  {
   "cell_type": "raw",
   "id": "dd869742",
   "metadata": {},
   "source": [
    "9.Write a code to count the number of words in a string"
   ]
  },
  {
   "cell_type": "code",
   "execution_count": null,
   "id": "b57542a6",
   "metadata": {},
   "outputs": [],
   "source": [
    "def WordsCounter(string):\n",
    "    count = 0\n",
    "    # Also use  return len(string)\n",
    "    for i in string:\n",
    "        count += 1\n",
    "    return count\n",
    "\n",
    "\n",
    "string = \"Ramu\"\n",
    "print(\"Count - \", WordsCounter(string))\n",
    "len(string)#alternate way."
   ]
  },
  {
   "cell_type": "raw",
   "id": "7a4f8a17",
   "metadata": {},
   "source": [
    "10.Write a code to concatentae two strings without using the + operator."
   ]
  },
  {
   "cell_type": "code",
   "execution_count": null,
   "id": "ad562873",
   "metadata": {},
   "outputs": [],
   "source": [
    "def concatenate(string1,string2):\n",
    "    return ' '.join([string1,string2])\n",
    "\n",
    "\n",
    "\n",
    "str1=\"Gande\"\n",
    "str2=\"Ramu\"\n",
    "\n",
    "print(concatenate(str1,str2))"
   ]
  },
  {
   "cell_type": "raw",
   "id": "b81e2646",
   "metadata": {},
   "source": [
    "11.Write a code to remove all occurences of a specific element from a list."
   ]
  },
  {
   "cell_type": "code",
   "execution_count": null,
   "id": "73e55e50",
   "metadata": {},
   "outputs": [],
   "source": [
    "def Remove_Occ(element, Input_list):\n",
    "    return [x for x in Input_list if x != element]\n",
    "\n",
    "\n",
    "elements = [2, 4, 8, 16, 2, 32]\n",
    "remove = 2\n",
    "result = Remove_Occ(remove,elements)\n",
    "print(\"List after removing {} : {}\".format(remove, result))"
   ]
  },
  {
   "cell_type": "raw",
   "id": "b5964c1f",
   "metadata": {},
   "source": [
    "12. implement a code to find the second largest number in given list of integers."
   ]
  },
  {
   "cell_type": "code",
   "execution_count": null,
   "id": "cd787533",
   "metadata": {},
   "outputs": [],
   "source": [
    "def second_larges(num):\n",
    "\n",
    "    if len(num)<2:\n",
    "        return \"List must have atleast 2 numbers \"\n",
    "    \n",
    "\n",
    "    Largest=Second_lar=num[0]\n",
    "\n",
    "    for a in num:\n",
    "        if a>Largest:\n",
    "            Second_lar=Largest\n",
    "            Largest=a\n",
    "\n",
    "        elif a>Second_lar and a!=Largest:\n",
    "            Second_lar=a\n",
    "    return Second_lar\n",
    "\n",
    "list=[1,2,3,4]\n",
    "print(\"Original list :\",list)\n",
    "print(\"second largest num : \",second_larges(list))"
   ]
  },
  {
   "cell_type": "code",
   "execution_count": null,
   "id": "13a5aecc",
   "metadata": {},
   "outputs": [],
   "source": [
    "#alternate way\n",
    "list_=[1,2,3,4]\n",
    "m = max(list_)\n",
    "list_.remove(m)\n",
    "max(list_)"
   ]
  },
  {
   "cell_type": "raw",
   "id": "316bb61b",
   "metadata": {},
   "source": [
    "13.create a code to count the occurences of each element in a list and return a dictionary with elements as\n",
    "keys and their counts as values."
   ]
  },
  {
   "cell_type": "code",
   "execution_count": null,
   "id": "0d75b516",
   "metadata": {},
   "outputs": [],
   "source": [
    "def count_occ(input_list):\n",
    "    s = set(input_list)\n",
    "    for i in s:\n",
    "        c = input_list.count(i)\n",
    "        print(f\"{i}:{c}\")\n",
    "        print(end=\"\\n\")\n",
    "count_occ([2,3,4,5,8,6,7,4,7,7,6,6,5,4])"
   ]
  },
  {
   "cell_type": "raw",
   "id": "3ed4b78e",
   "metadata": {},
   "source": [
    "14. Write a code to reverse list in place without using any\n",
    " built in reverse function."
   ]
  },
  {
   "cell_type": "code",
   "execution_count": null,
   "id": "65c6ee82",
   "metadata": {},
   "outputs": [],
   "source": [
    "def reverse_in_place(lst):\n",
    "    n = len(lst)\n",
    "    k =[]\n",
    "    for i in range(n-1,-1,-1):\n",
    "        k.append(lst[i])\n",
    "    return k\n",
    "lst = [1,2,3,4]\n",
    "print(reverse_in_place(lst))\n",
    "reverse_in_place([2,3,4,5,6,7,8,9])"
   ]
  },
  {
   "cell_type": "raw",
   "id": "1cdcbd0d",
   "metadata": {},
   "source": [
    "15.implement a code to find and remove duplicates from the  list while preserving the original order of elements."
   ]
  },
  {
   "cell_type": "code",
   "execution_count": 11,
   "id": "e615e94a",
   "metadata": {},
   "outputs": [
    {
     "data": {
      "text/plain": [
       "[1, 3, 4, 5, 6, 7]"
      ]
     },
     "execution_count": 11,
     "metadata": {},
     "output_type": "execute_result"
    }
   ],
   "source": [
    "def removedup(lst):\n",
    "    uniq = []\n",
    "    for item in lst:\n",
    "        if item not in uniq:\n",
    "            uniq.append(item)\n",
    "    return uniq\n",
    "k = [1,3,4,5,6,4,5,7,4,6,4]            \n",
    "removedup(k)"
   ]
  },
  {
   "cell_type": "raw",
   "id": "2a5c0443",
   "metadata": {},
   "source": [
    "16.create a code to check if given list is sorted (either in ascending or descending order) or not."
   ]
  },
  {
   "cell_type": "code",
   "execution_count": 34,
   "id": "f28b251d",
   "metadata": {},
   "outputs": [
    {
     "name": "stdout",
     "output_type": "stream",
     "text": [
      "list is not sorted\n",
      "list is sorted\n"
     ]
    }
   ],
   "source": [
    "def checkorder(lst):\n",
    "    k_asc = sorted(lst)\n",
    "    k_desc = sorted(lst,reverse = True)\n",
    "    if lst == k_asc or lst==k_desc:\n",
    "        print(\"list is sorted\")\n",
    "    else:\n",
    "        print(\"list is not sorted\")\n",
    "k=[12,4,6,7,3]\n",
    "checkorder(k)\n",
    "l=[1,2,3,4,5]\n",
    "checkorder(l)"
   ]
  },
  {
   "cell_type": "raw",
   "id": "41c88d09",
   "metadata": {},
   "source": [
    "17. Write  a code to merge two sorted list into single sorted list"
   ]
  },
  {
   "cell_type": "code",
   "execution_count": 47,
   "id": "4a335d61",
   "metadata": {},
   "outputs": [
    {
     "name": "stdout",
     "output_type": "stream",
     "text": [
      "[1, 2, 3, 3, 4, 4, 5, 5, 6, 6, 7, 8]\n"
     ]
    }
   ],
   "source": [
    "def mergelist(lst1,lst2):\n",
    "    lst1 = sorted(lst1)\n",
    "    lst2 = sorted(lst2)\n",
    "    lst1.extend(lst2)\n",
    "    k = sorted(lst1)\n",
    "    return k\n",
    "l1 = [1,2,3,5,7,4]\n",
    "l2 = [6,4,5,8,3,6]\n",
    "result = mergelist(l1,l2)\n",
    "print(result)"
   ]
  },
  {
   "cell_type": "raw",
   "id": "104fae55",
   "metadata": {},
   "source": [
    "18.implement a code to find the intersection of  two given lists"
   ]
  },
  {
   "cell_type": "code",
   "execution_count": 48,
   "id": "6941292b",
   "metadata": {},
   "outputs": [
    {
     "name": "stdout",
     "output_type": "stream",
     "text": [
      "[4, 5]\n"
     ]
    }
   ],
   "source": [
    "list1 = [1, 2, 3, 4, 5]\n",
    "list2 = [4, 5, 6, 7, 8]\n",
    "intersection = []\n",
    "for item in list1:\n",
    "    if item in list2:\n",
    "        intersection.append(item)\n",
    "print(intersection)\n",
    "        "
   ]
  },
  {
   "cell_type": "raw",
   "id": "f33f7fc6",
   "metadata": {},
   "source": [
    "19.create a code to find the union of two lists without duplicates."
   ]
  },
  {
   "cell_type": "code",
   "execution_count": 63,
   "id": "bfb3943e",
   "metadata": {},
   "outputs": [
    {
     "data": {
      "text/plain": [
       "{1, 2, 3, 4, 5, 6, 7, 8}"
      ]
     },
     "execution_count": 63,
     "metadata": {},
     "output_type": "execute_result"
    }
   ],
   "source": [
    "list1 = [1, 2, 3, 4, 5]\n",
    "list2 = [4, 5, 6, 7, 8]\n",
    "union = []\n",
    "list1.extend(list2)\n",
    "set(list1)"
   ]
  },
  {
   "cell_type": "code",
   "execution_count": null,
   "id": "993ec693",
   "metadata": {},
   "outputs": [],
   "source": []
  }
 ],
 "metadata": {
  "kernelspec": {
   "display_name": "Python 3 (ipykernel)",
   "language": "python",
   "name": "python3"
  },
  "language_info": {
   "codemirror_mode": {
    "name": "ipython",
    "version": 3
   },
   "file_extension": ".py",
   "mimetype": "text/x-python",
   "name": "python",
   "nbconvert_exporter": "python",
   "pygments_lexer": "ipython3",
   "version": "3.11.7"
  }
 },
 "nbformat": 4,
 "nbformat_minor": 5
}
